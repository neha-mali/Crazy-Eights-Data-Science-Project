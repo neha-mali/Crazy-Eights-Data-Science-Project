{
 "cells": [
  {
   "cell_type": "markdown",
   "metadata": {},
   "source": [
    "# VISUALIZATIONS"
   ]
  },
  {
   "cell_type": "code",
   "execution_count": null,
   "metadata": {},
   "outputs": [],
   "source": [
    "# importing the libraies for visualization and data analysis\n",
    "\n",
    "import pandas as pd\n",
    "import os\n",
    "# from matplotlib import pyplot as plt\n",
    "import matplotlib.pyplot as plt\n",
    "import numpy as np"
   ]
  },
  {
   "cell_type": "code",
   "execution_count": null,
   "metadata": {},
   "outputs": [],
   "source": [
    "# dictionary to count how many times the player has pass in the game\n",
    "pass_counter = {'PLAYER0':0, 'PLAYER1':0, 'PLAYER2': 0, 'PLAYER3':0}\n",
    "\n",
    "# dictionary to count the winner counter\n",
    "winner_counter = {'PLAYER0':0, 'PLAYER1':0, 'PLAYER2': 0, 'PLAYER3':0}\n",
    "\n",
    "# dictionary to see which player has drawn the card\n",
    "draw_counter={'PLAYER0':0, 'PLAYER1':0, 'PLAYER2': 0, 'PLAYER3':0}\n",
    "\n",
    "# dictionary to count which player has changed the suit after playing the card\n",
    "suit_counter={'H':0,'D':0,'S':0,'C':0}\n",
    "\n",
    "# dictionary to count which player did not change the suit after playing the card\n",
    "suit_not_changed={'H':0,'D':0,'S':0,'C':0}\n",
    "\n",
    "# dictionary to check how many cards each player has drawn\n",
    "playerwise_card_counter = {'PLAYER0':[0,0,0], 'PLAYER1':[0,0,0], 'PLAYER2': [0,0,0], 'PLAYER3':[0,0,0]}\n",
    "card_draw_count = {1:0, 2:0, 3:0}\n",
    "deck_empty_counter = 0\n",
    "face_card_value_counter = 0\n",
    "suit_card_value_counter = 0\n",
    "discard_flag=0"
   ]
  },
  {
   "cell_type": "code",
   "execution_count": null,
   "metadata": {},
   "outputs": [],
   "source": [
    "rootdir = '/Users/neha4045/Desktop/crazyeights'\n",
    "for subdir, dirs, files in os.walk(rootdir):\n",
    "    for file in files:\n",
    "        df=pd.read_csv(os.path.join(subdir, file),header=None,sep='\\n')\n",
    "        print(df.head())\n",
    "        # iterating through row\n",
    "        i=0\n",
    "        for row in df.iterrows():\n",
    "            i=i+1\n",
    "        # this will replace '[' with '' and ']' with ''\n",
    "            row = row[1].array[0].replace('[', '').replace(']','').split(',')\n",
    "\n",
    "        # this will check which row has length 1 and will return the winner of the game    \n",
    "            if len(row)==1:\n",
    "\n",
    "        # this will return the winner of the game        \n",
    "                winner_counter[row[0].split(' ')[0]]+=1\n",
    "                break\n",
    "\n",
    "        # Checking how many time which player passess their turn\n",
    "            if row[1]=='Pass':\n",
    "                pass_counter[row[0]]+=1\n",
    "        # Checking if deck is emptied and increasing the count \n",
    "            if row[0] =='DECK':\n",
    "                if len(row)-1 == 0:\n",
    "                    deck_empty_counter+=1\n",
    "        # checking how many times the player has called out an different suit\n",
    "            if row[0]=='PLAYER0' or row[0]=='PLAYER1' or row[0]=='PLAYER2' or row[0]=='PLAYER3':\n",
    "                if row[1] == 'Draws':\n",
    "                    # print(row, len(row)-2)\n",
    "                    card_draw_count[len(row)-2]+=1\n",
    "                    playerwise_card_counter[row[0]][len(row)-3]+=1\n",
    "        # this will set a flag to check the face value in discards\n",
    "            if row[0]=='DISCARD':\n",
    "                discard_flag = 1\n",
    "                face_value = row[-1][0]\n",
    "                suit_value = row[-1][1]\n",
    "        # checking if the suit value or face value is matching with the previous discarded card\n",
    "            if discard_flag==1:\n",
    "                if row[0]=='PLAYER0' or row[0]=='PLAYER1' or row[0]=='PLAYER2' or row[0]=='PLAYER3':\n",
    "                    if row[1][0]== face_value:\n",
    "                        face_card_value_counter+=1\n",
    "                    if row[1][1]== suit_value:                        \n",
    "                        suit_card_value_counter+=1        \n",
    "\n",
    "        # this will check if any of the player has drawn the card        \n",
    "            if row[1]=='Draws':\n",
    "\n",
    "        # this will increment the counter if the player has drawn the card        \n",
    "                draw_counter[row[0]]+=1\n",
    "\n",
    "       # if condition will check for the index whether it is 8 or not from the first column       \n",
    "            if row[0]=='PLAYER0' or row[0]=='PLAYER1' or row[0]=='PLAYER2' or row[0]=='PLAYER3':\n",
    "                if row[1][0]=='8' and i>6:    # if the index is 8 from the first column the suit_counter will get incremented             \n",
    "                    suit_counter[row[2]]+=1\n",
    "\n",
    "        # if condition will check if the suit has been changed by the player or not     \n",
    "                if row[1][1]==row[2]:\n",
    "\n",
    "        # if suit is unchanged it will increment the unchanged counter for praticular suit        \n",
    "                    suit_not_changed[row[2]]+=1\n",
    "\n",
    "\n",
    "\n",
    "\n",
    "\n",
    "\n"
   ]
  },
  {
   "cell_type": "code",
   "execution_count": null,
   "metadata": {},
   "outputs": [],
   "source": [
    "# winner_counter will count how many times each player has won the game\n",
    "winner_counter"
   ]
  },
  {
   "cell_type": "code",
   "execution_count": null,
   "metadata": {},
   "outputs": [],
   "source": [
    "# assigning x and y coordinates\n",
    "Players = [\"PLAYER0\", \"PLAYER1\", \"PLAYER2\", \"PLAYER3\"]\n",
    "Number_of_times = [417, 384, 370, 325]\n",
    "  \n",
    "# visualization\n",
    "index = np.arange(len(Players))\n",
    "plt.bar(index, Number_of_times, color=['purple', 'brown', 'black', 'green'])\n",
    "plt.xlabel(\"Player's\")\n",
    "plt.ylabel('Number_of_times')\n",
    "plt.xticks(index, Players)\n",
    "  \n",
    "# displaying the title\n",
    "plt.title(label=\"Number of times the each player's has won the game\", \n",
    "          fontweight=10, \n",
    "          pad='2.0')"
   ]
  },
  {
   "cell_type": "code",
   "execution_count": null,
   "metadata": {},
   "outputs": [],
   "source": [
    "pass_counter"
   ]
  },
  {
   "cell_type": "code",
   "execution_count": null,
   "metadata": {},
   "outputs": [],
   "source": [
    "# assigning x and y coordinates\n",
    "Players = [\"PLAYER0\", \"PLAYER1\", \"PLAYER2\", \"PLAYER3\"]\n",
    "Number_of_times = [1448, 1429, 1340, 1332]\n",
    "  \n",
    "# visualization\n",
    "index = np.arange(len(Players))\n",
    "plt.bar(index, Number_of_times, color=['purple', 'brown', 'black', 'green'])\n",
    "plt.xlabel(\"Player's\")\n",
    "plt.ylabel('Number_of_times')\n",
    "plt.xticks(index, Players)\n",
    "  \n",
    "# displaying the title\n",
    "plt.title(label=\"Number of times the each player's has pass the game\", \n",
    "          fontweight=10, \n",
    "          pad='2.0')"
   ]
  },
  {
   "cell_type": "code",
   "execution_count": null,
   "metadata": {},
   "outputs": [],
   "source": [
    "draw_counter"
   ]
  },
  {
   "cell_type": "code",
   "execution_count": null,
   "metadata": {},
   "outputs": [],
   "source": [
    "# assigning x and y coordinates\n",
    "Players = [\"PLAYER0\", \"PLAYER1\", \"PLAYER2\", \"PLAYER3\"]\n",
    "Number_of_times = [3641, 3508, 3370, 3266]\n",
    "  \n",
    "# visualization\n",
    "index = np.arange(len(Players))\n",
    "plt.bar(index, Number_of_times, color=['purple', 'brown', 'black', 'green'])\n",
    "plt.xlabel(\"Player's\")\n",
    "plt.ylabel('Number_of_times')\n",
    "plt.xticks(index, Players)\n",
    "  \n",
    "# displaying the title\n",
    "plt.title(label=\"Number of times the each player has drawn the card in the game\", \n",
    "          fontweight=10, \n",
    "          pad='2.0')\n",
    "\n"
   ]
  },
  {
   "cell_type": "code",
   "execution_count": null,
   "metadata": {},
   "outputs": [],
   "source": [
    "# suit_counter will return which suit was change by the player during the game\n",
    "suit_counter"
   ]
  },
  {
   "cell_type": "code",
   "execution_count": null,
   "metadata": {},
   "outputs": [],
   "source": [
    "# assigning x and y coordinates\n",
    "Players = [\"H\", \"D\", \"S\", \"C\"]\n",
    "Number_of_times = [1915, 1424, 1182, 1008]\n",
    "  \n",
    "# visualization\n",
    "index = np.arange(len(Players))\n",
    "plt.bar(index, Number_of_times, color=['purple', 'brown', 'black', 'green'])\n",
    "plt.xlabel(\"Player's\")\n",
    "plt.ylabel('Number_of_times')\n",
    "plt.xticks(index, Players)\n",
    "  \n",
    "# displaying the title\n",
    "plt.title(label=\"Count of suit which was change by the player during the game\", \n",
    "          fontweight=10, \n",
    "          pad='2.0')\n",
    "\n"
   ]
  },
  {
   "cell_type": "code",
   "execution_count": null,
   "metadata": {},
   "outputs": [],
   "source": [
    "# suit_counter will return which suit was not change by the player during the game\n",
    "suit_not_changed"
   ]
  },
  {
   "cell_type": "code",
   "execution_count": null,
   "metadata": {},
   "outputs": [],
   "source": [
    "Players = [\"H\", \"D\", \"S\", \"C\"]\n",
    "Number_of_times = [481, 357, 275, 250]\n",
    "  \n",
    "# visualization\n",
    "index = np.arange(len(Players))\n",
    "plt.bar(index, Number_of_times, color=['purple', 'brown', 'black', 'green'])\n",
    "plt.xlabel(\"Player's\")\n",
    "plt.ylabel('Number_of_times')\n",
    "plt.xticks(index, Players)\n",
    "  \n",
    "# displaying the title\n",
    "plt.title(label=\"Count of suit which was not change by the player during the game\", \n",
    "          fontweight=10, \n",
    "          pad='2.0')"
   ]
  },
  {
   "cell_type": "code",
   "execution_count": null,
   "metadata": {},
   "outputs": [],
   "source": [
    "playerwise_card_counter"
   ]
  },
  {
   "cell_type": "code",
   "execution_count": null,
   "metadata": {},
   "outputs": [],
   "source": [
    "plotdata = pd.DataFrame({\n",
    "    \n",
    "    \n",
    "    \"1_card_draw\":[1345, 1218, 1241,1208],\n",
    "    \"2_card_draw\":[848, 861, 789,726],\n",
    "    \"3_card_draw\":[1448, 1429, 1340,1332]\n",
    "    }, \n",
    "    index=[\"PLAYER0\", \"PLAYER1\", \"PLAYER2\",\"PLAYER3\"]\n",
    ")\n",
    "plotdata.plot(kind=\"bar\")\n",
    "plt.title(\"Number of cards drawn by each player\")\n",
    "plt.xlabel(\"Player in the game\")\n",
    "plt.ylabel(\"Cards Drawn\")"
   ]
  },
  {
   "cell_type": "code",
   "execution_count": null,
   "metadata": {},
   "outputs": [],
   "source": [
    "\n",
    "# Create a sample dataframe with an text index\n",
    "plotdata = pd.DataFrame(\n",
    "    {\"face_card_value_counter\": [11206]}, \n",
    "    index=[\"face_card_value_counter\"])\n",
    "# Plot a bar chart\n",
    "# plotdata.plot(kind=\"bar\")\n",
    "plotdata['face_card_value_counter'].plot(kind=\"bar\",color=['purple'])\n",
    "plt.title(\"face_card_value_counter\")\n",
    "plt.ylabel(\"Number of times the each player has change the suit in the game\")\n",
    "plt.xlabel(\"Suit of the game\")"
   ]
  },
  {
   "cell_type": "code",
   "execution_count": null,
   "metadata": {},
   "outputs": [],
   "source": [
    "suit_card_value_counter"
   ]
  },
  {
   "cell_type": "code",
   "execution_count": null,
   "metadata": {},
   "outputs": [],
   "source": [
    "\n",
    "# Create a sample dataframe with an text index\n",
    "plotdata = pd.DataFrame(\n",
    "    {\"suit_card_value_counter\": [31511]}, \n",
    "    index=[\"suit_card_value_counter\"])\n",
    "# Plot a bar chart\n",
    "# plotdata.plot(kind=\"bar\")\n",
    "plotdata['suit_card_value_counter'].plot(kind=\"bar\",color=['brown'])\n",
    "plt.title(\"suit_card_value_counter\")\n",
    "plt.ylabel(\"Number of times the each player has change the suit in the game\")\n",
    "plt.xlabel(\"Suit of the game\")"
   ]
  }
 ],
 "metadata": {
  "kernelspec": {
   "display_name": "Python 3",
   "language": "python",
   "name": "python3"
  },
  "language_info": {
   "codemirror_mode": {
    "name": "ipython",
    "version": 3
   },
   "file_extension": ".py",
   "mimetype": "text/x-python",
   "name": "python",
   "nbconvert_exporter": "python",
   "pygments_lexer": "ipython3",
   "version": "3.8.3"
  }
 },
 "nbformat": 4,
 "nbformat_minor": 4
}
